{
 "metadata": {
  "canopy_exercise": {
   "__metadata_version__": 1
  },
  "difficulty": "very simple",
  "duration": "very short",
  "exercise_number": 1,
  "flavor": "general",
  "language": "english",
  "level": "fluency",
  "module": "PyFund_string",
  "name": "poem_string.ipynb",
  "pre_requisites": [
   "PyFund_string",
   "header"
  ],
  "programming_goals": [
   "variable creation",
   "print"
  ],
  "python_goals": [
   "string creation",
   "string concatenation"
  ]
 },
 "nbformat": 3,
 "nbformat_minor": 0,
 "worksheets": [
  {
   "cells": [
    {
     "cell_type": "markdown",
     "metadata": {
      "canopy_exercise": {
       "cell_type": "question"
      }
     },
     "source": [
      "The Haggis poem\n",
      "===============\n",
      "\n",
      "Despite the number of snakes that are used on books, websites and package names, the `Python` language was named after the British comedy group Monty Python. Part of their `Big Red Book` was a poem called `The Haggis poem` that we will \"analyze\".\n",
      "\n",
      "Copy the text below (only the first half of the poem) and use it to create a string containing the following poem in a variable called `poem`:\n",
      "\n",
      "<pre>\n",
      "Jack\n",
      "Much to his Mum and Dad's dismay\n",
      "Jack ate himself one day.\n",
      "He didn't stop to say his grace,\n",
      "He just sat down and ate his face.\n",
      "\"We can't have this his Dad declared,\n",
      "\"If that lad's ate, he should be shared.\"\n",
      "But even as he spoke they saw\n",
      "Jack eating more and more:\n",
      "First his legs and then his thighs,\n",
      "His arms, his nose, his hair, his eyes...\n",
      "\"Stop him someone!\" Mother cried\n",
      "\"Those eyeballs would be better fried!\"\n",
      "</pre>"
     ]
    },
    {
     "cell_type": "code",
     "collapsed": true,
     "input": [
      "# your code goes here"
     ],
     "language": "python",
     "metadata": {
      "canopy_exercise": {
       "cell_type": "student_solution"
      }
     },
     "outputs": []
    },
    {
     "cell_type": "markdown",
     "metadata": {
      "canopy_exercise": {
       "cell_type": "solution_button"
      }
     },
     "source": [
      "<div class=\"btn-group\"><button class=\"btn\" onclick=\"IPython.canopy_exercise.toggle_solution('1')\">Solution</button></div>"
     ]
    },
    {
     "cell_type": "code",
     "collapsed": true,
     "input": [
      "poem = \"\"\"Jack\n",
      "Much to his Mum and Dad's dismay\n",
      "Jack ate himself one day.\n",
      "He didn't stop to say his grace,\n",
      "He just sat down and ate his face.\n",
      "\"We can't have this his Dad declared,\n",
      "\"If that lad's ate, he should be shared.\"\n",
      "But even as he spoke they saw\n",
      "Jack eating more and more:\n",
      "First his legs and then his thighs,\n",
      "His arms, his nose, his hair, his eyes...\n",
      "\"Stop him someone!\" Mother cried\n",
      "\"Those eyeballs would be better fried!\"\n",
      "\"\"\""
     ],
     "language": "python",
     "metadata": {
      "canopy_exercise": {
       "cell_type": "solution_view",
       "solution_number": "1"
      }
     },
     "outputs": []
    },
    {
     "cell_type": "markdown",
     "metadata": {
      "canopy_exercise": {
       "cell_type": "question"
      }
     },
     "source": [
      "The name in this version of the poem is wrong and all occurences of \"Jack\" should be replaced by \"Horace\". First, count how many occurences of \"Jack\" there are and find where (at what character) the first occurence happens. Then modify the variable `poem` by replacing them all at once by \"Horace\". Print the result."
     ]
    },
    {
     "cell_type": "code",
     "collapsed": true,
     "input": [
      "# your code goes here"
     ],
     "language": "python",
     "metadata": {
      "canopy_exercise": {
       "cell_type": "student_solution"
      }
     },
     "outputs": []
    },
    {
     "cell_type": "markdown",
     "metadata": {
      "canopy_exercise": {
       "cell_type": "solution_button"
      }
     },
     "source": [
      "<div class=\"btn-group\"><button class=\"btn\" onclick=\"IPython.canopy_exercise.toggle_solution('2')\">Solution</button></div>"
     ]
    },
    {
     "cell_type": "code",
     "collapsed": false,
     "input": [
      "print(poem.count(\"Jack\"))\n",
      "print(poem.find(\"Jack\"))"
     ],
     "language": "python",
     "metadata": {
      "canopy_exercise": {
       "cell_type": "solution_view",
       "solution_number": "2"
      }
     },
     "outputs": []
    },
    {
     "cell_type": "code",
     "collapsed": false,
     "input": [
      "poem = poem.replace(\"Jack\", \"Horace\")\n",
      "print(poem)"
     ],
     "language": "python",
     "metadata": {
      "canopy_exercise": {
       "cell_type": "solution_view",
       "solution_number": "2"
      }
     },
     "outputs": []
    }
   ],
   "metadata": {}
  }
 ]
}