{
 "metadata": {
  "canopy_exercise": {
   "__metadata_version__": 1
  },
  "description": "",
  "difficulty": "very simple",
  "duration": "very short",
  "exercise_number": 1,
  "flavor": "general",
  "language": "english",
  "level": "fluency",
  "module": "PyFund_string",
  "name": "name_string.ipynb",
  "pre_requisites": [
   "PyFund_string",
   "header"
  ],
  "programming_goals": [
   "variable creation",
   "print"
  ],
  "python_goals": [
   "string creation",
   "string concatenation"
  ]
 },
 "nbformat": 3,
 "nbformat_minor": 0,
 "worksheets": [
  {
   "cells": [
    {
     "cell_type": "markdown",
     "metadata": {
      "canopy_exercise": {
       "cell_type": "question"
      }
     },
     "source": [
      "Name String\n",
      "===========\n",
      "\n",
      "We would like to create a custom welcome message for a future application  that greats the user using his/her name. \n",
      "\n",
      "Question 1\n",
      "----------\n",
      "Create a string with your first name  and assign it to a variable 'fst_name'."
     ]
    },
    {
     "cell_type": "code",
     "collapsed": true,
     "input": [
      "# your code goes here"
     ],
     "language": "python",
     "metadata": {
      "canopy_exercise": {
       "cell_type": "student_solution"
      }
     },
     "outputs": []
    },
    {
     "cell_type": "markdown",
     "metadata": {
      "canopy_exercise": {
       "cell_type": "solution_button"
      }
     },
     "source": [
      "<div class=\"btn-group\"><button class=\"btn\" onclick=\"IPython.canopy_exercise.toggle_solution('1')\">Solution</button></div>"
     ]
    },
    {
     "cell_type": "code",
     "collapsed": false,
     "input": [
      "fst_name = \"Eric\""
     ],
     "language": "python",
     "metadata": {
      "canopy_exercise": {
       "cell_type": "solution_view",
       "solution_number": "1"
      }
     },
     "outputs": []
    },
    {
     "cell_type": "markdown",
     "metadata": {
      "canopy_exercise": {
       "cell_type": "question"
      }
     },
     "source": [
      "Question 2\n",
      "----------\n",
      "Create another one with your last name and assign it to a variable  'last_name'. "
     ]
    },
    {
     "cell_type": "code",
     "collapsed": true,
     "input": [
      "# your code goes here"
     ],
     "language": "python",
     "metadata": {
      "canopy_exercise": {
       "cell_type": "student_solution"
      }
     },
     "outputs": []
    },
    {
     "cell_type": "markdown",
     "metadata": {
      "canopy_exercise": {
       "cell_type": "solution_button"
      }
     },
     "source": [
      "<div class=\"btn-group\"><button class=\"btn\" onclick=\"IPython.canopy_exercise.toggle_solution('2')\">Solution</button></div>"
     ]
    },
    {
     "cell_type": "code",
     "collapsed": false,
     "input": [
      "last_name = \"Jones\""
     ],
     "language": "python",
     "metadata": {
      "canopy_exercise": {
       "cell_type": "solution_view",
       "solution_number": "2"
      }
     },
     "outputs": []
    },
    {
     "cell_type": "markdown",
     "metadata": {
      "canopy_exercise": {
       "cell_type": "question"
      }
     },
     "source": [
      "Question 3\n",
      "----------\n",
      "Print a third string made of the concatenation of \"Hello \", and the two  variables above."
     ]
    },
    {
     "cell_type": "code",
     "collapsed": true,
     "input": [
      "# your code goes here"
     ],
     "language": "python",
     "metadata": {
      "canopy_exercise": {
       "cell_type": "student_solution"
      }
     },
     "outputs": []
    },
    {
     "cell_type": "markdown",
     "metadata": {
      "canopy_exercise": {
       "cell_type": "solution_button"
      }
     },
     "source": [
      "<div class=\"btn-group\"><button class=\"btn\" onclick=\"IPython.canopy_exercise.toggle_solution('3')\">Solution</button></div>"
     ]
    },
    {
     "cell_type": "code",
     "collapsed": false,
     "input": [
      "print \"Hello \" + fst_name + \" \" + last_name"
     ],
     "language": "python",
     "metadata": {
      "canopy_exercise": {
       "cell_type": "solution_view",
       "solution_number": "3"
      }
     },
     "outputs": []
    },
    {
     "cell_type": "markdown",
     "metadata": {
      "canopy_exercise": {
       "cell_type": "question"
      }
     },
     "source": [
      "Question 4\n",
      "----------\n",
      "Now print a string full of the character \"=\" to underline the previous output. For example, if your name is Eric Jones, your welcome message is \n",
      "\n",
      "    \n",
      "    Hello Eric Jones \n",
      "\n",
      "so you should then print 16 occurences of \"=\". \n",
      "\n",
      "Note: Your code should work with any name (in other words, you can't assume that you can count the length of the name)."
     ]
    },
    {
     "cell_type": "markdown",
     "metadata": {
      "canopy_exercise": {
       "cell_type": "hint_button"
      }
     },
     "source": [
      "<div class=\"btn-group\"><button class=\"btn\" onclick=\"IPython.canopy_exercise.toggle_hint('7')\">Hint</button></div>"
     ]
    },
    {
     "cell_type": "markdown",
     "metadata": {
      "canopy_exercise": {
       "cell_type": "hint_view",
       "hint_number": "7"
      }
     },
     "source": [
      "The number of characters needed is the length of \"Hello \", the length of the first name, the length of the last name, plus 1 more for the space in between."
     ]
    },
    {
     "cell_type": "code",
     "collapsed": true,
     "input": [
      "# your code goes here"
     ],
     "language": "python",
     "metadata": {
      "canopy_exercise": {
       "cell_type": "student_solution"
      }
     },
     "outputs": []
    },
    {
     "cell_type": "markdown",
     "metadata": {
      "canopy_exercise": {
       "cell_type": "solution_button"
      }
     },
     "source": [
      "<div class=\"btn-group\"><button class=\"btn\" onclick=\"IPython.canopy_exercise.toggle_solution('5')\">Solution</button></div>"
     ]
    },
    {
     "cell_type": "code",
     "collapsed": false,
     "input": [
      "# The number of characters needed is the length of \"Hello \", the first name, the last name, and the space in between.\n",
      "number_char = len(\"Hello \") + len(fst_name) + 1 + len(last_name)\n",
      "print \"=\" * number_char"
     ],
     "language": "python",
     "metadata": {
      "canopy_exercise": {
       "cell_type": "solution_view",
       "solution_number": "5"
      }
     },
     "outputs": []
    }
   ],
   "metadata": {}
  }
 ]
}